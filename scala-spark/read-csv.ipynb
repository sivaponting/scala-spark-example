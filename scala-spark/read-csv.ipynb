{
 "cells": [
  {
   "cell_type": "markdown",
   "id": "3647545a",
   "metadata": {},
   "source": [
    "## Load CSV file into RDD"
   ]
  },
  {
   "cell_type": "code",
   "execution_count": 3,
   "id": "214f49e2",
   "metadata": {},
   "outputs": [
    {
     "name": "stdout",
     "output_type": "stream",
     "text": [
      "Col1: Eleven, Col2: 11\n",
      "Col1: Col1, Col2: Col2\n",
      "Col1: One, Col2: 1\n"
     ]
    },
    {
     "data": {
      "text/plain": [
       "rddFromFile: org.apache.spark.rdd.RDD[String] = ../resources/text01.csv MapPartitionsRDD[6] at textFile at <console>:27\n",
       "rdd: org.apache.spark.rdd.RDD[Array[String]] = MapPartitionsRDD[7] at map at <console>:28\n"
      ]
     },
     "execution_count": 3,
     "metadata": {},
     "output_type": "execute_result"
    }
   ],
   "source": [
    "val rddFromFile = spark.sparkContext.textFile(\"../resources/text01.csv\")\n",
    "val rdd = rddFromFile.map(f => f.split(\",\"))\n",
    "rdd.foreach(f=> println(\"Col1: \"+ f(0) + \", Col2: \"+ f(1)))\n"
   ]
  },
  {
   "cell_type": "markdown",
   "id": "bf552835",
   "metadata": {},
   "source": [
    "## RDD using collect()"
   ]
  },
  {
   "cell_type": "code",
   "execution_count": 4,
   "id": "0ee82ce7",
   "metadata": {},
   "outputs": [
    {
     "name": "stdout",
     "output_type": "stream",
     "text": [
      "Col1:Col1,Col2:Col2\n",
      "Col1:One,Col2:1\n",
      "Col1:Eleven,Col2:11\n"
     ]
    }
   ],
   "source": [
    "rdd.collect().foreach(f=>{\n",
    "    println(\"Col1:\"+f(0)+\",Col2:\"+f(1))\n",
    "  })"
   ]
  },
  {
   "cell_type": "markdown",
   "id": "204feca4",
   "metadata": {},
   "source": [
    "## Read Multiple CSV Files into RDD"
   ]
  },
  {
   "cell_type": "code",
   "execution_count": 7,
   "id": "fdc8fb67",
   "metadata": {},
   "outputs": [
    {
     "name": "stdout",
     "output_type": "stream",
     "text": [
      "Col1,Col2\n",
      "Col1,Col2\n",
      "One,1\n",
      "Two,2\n",
      "Eleven,11\n",
      "Twenty One,21\n"
     ]
    },
    {
     "data": {
      "text/plain": [
       "rdd4: org.apache.spark.rdd.RDD[String] = ../resources/text01.csv,../resources/text02.csv MapPartitionsRDD[11] at textFile at <console>:24\n"
      ]
     },
     "execution_count": 7,
     "metadata": {},
     "output_type": "execute_result"
    }
   ],
   "source": [
    "val rdd4 = spark.sparkContext.textFile(\"../resources/text01.csv,../resources/text02.csv\")\n",
    "rdd4.foreach(f => println(f))"
   ]
  },
  {
   "cell_type": "markdown",
   "id": "50269f30",
   "metadata": {},
   "source": [
    "## Read all CSV Files in a Directory into RDD"
   ]
  },
  {
   "cell_type": "code",
   "execution_count": 8,
   "id": "54b75a22",
   "metadata": {},
   "outputs": [
    {
     "name": "stdout",
     "output_type": "stream",
     "text": [
      "Col1,Col2\n",
      "One,1\n",
      "Eleven,11\n",
      "Col1,Col2\n",
      "Two,2\n",
      "Twenty One,21\n",
      "Col1,Col2\n",
      "Three,3\n",
      "Col1,Col2\n",
      "Four,4\n",
      "Col1,Col2\n",
      "Invalid,I\n"
     ]
    },
    {
     "data": {
      "text/plain": [
       "rdd3: org.apache.spark.rdd.RDD[String] = ../resources/* MapPartitionsRDD[13] at textFile at <console>:24\n"
      ]
     },
     "execution_count": 8,
     "metadata": {},
     "output_type": "execute_result"
    }
   ],
   "source": [
    "val rdd3 = spark.sparkContext.textFile(\"../resources/*\")\n",
    "rdd3.foreach(f => println(f))"
   ]
  },
  {
   "cell_type": "code",
   "execution_count": null,
   "id": "69a92bfc",
   "metadata": {},
   "outputs": [],
   "source": []
  }
 ],
 "metadata": {
  "kernelspec": {
   "display_name": "spylon-kernel",
   "language": "scala",
   "name": "spylon-kernel"
  },
  "language_info": {
   "codemirror_mode": "text/x-scala",
   "file_extension": ".scala",
   "help_links": [
    {
     "text": "MetaKernel Magics",
     "url": "https://metakernel.readthedocs.io/en/latest/source/README.html"
    }
   ],
   "mimetype": "text/x-scala",
   "name": "scala",
   "pygments_lexer": "scala",
   "version": "0.4.1"
  }
 },
 "nbformat": 4,
 "nbformat_minor": 5
}
