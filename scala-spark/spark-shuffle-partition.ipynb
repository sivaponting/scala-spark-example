{
 "cells": [
  {
   "cell_type": "markdown",
   "id": "78b7ffdc",
   "metadata": {},
   "source": [
    "## Spark RDD Shuffle"
   ]
  },
  {
   "cell_type": "code",
   "execution_count": 8,
   "id": "db0502ce",
   "metadata": {},
   "outputs": [
    {
     "name": "stdout",
     "output_type": "stream",
     "text": [
      "RDD Parition Count :2\n",
      "RDD Parition Count :2\n"
     ]
    },
    {
     "data": {
      "text/plain": [
       "import org.apache.spark.sql.SparkSession\n",
       "import org.apache.spark.rdd.RDD\n",
       "spark: org.apache.spark.sql.SparkSession = org.apache.spark.sql.SparkSession@319faa77\n",
       "sc: org.apache.spark.SparkContext = org.apache.spark.SparkContext@4e0fcd9\n",
       "rdd: org.apache.spark.rdd.RDD[String] = ../resources/test.txt MapPartitionsRDD[13] at textFile at <console>:45\n",
       "rdd2: org.apache.spark.rdd.RDD[(String, Int)] = MapPartitionsRDD[15] at map at <console>:49\n",
       "rdd5: org.apache.spark.rdd.RDD[(String, Int)] = ShuffledRDD[16] at reduceByKey at <console>:52\n"
      ]
     },
     "execution_count": 8,
     "metadata": {},
     "output_type": "execute_result"
    }
   ],
   "source": [
    "import org.apache.spark.sql.SparkSession\n",
    "import org.apache.spark.rdd.RDD\n",
    "\n",
    "val spark:SparkSession = SparkSession.builder()\n",
    "    .master(\"local[5]\")\n",
    "    .appName(\"SparkByExamples.com\")\n",
    "    .getOrCreate()\n",
    "\n",
    "val sc = spark.sparkContext\n",
    "\n",
    "val rdd:RDD[String] = sc.textFile(\"../resources/test.txt\")\n",
    "\n",
    "println(\"RDD Parition Count :\"+rdd.getNumPartitions)\n",
    "val rdd2 = rdd.flatMap(f=>f.split(\" \"))\n",
    "  .map(m=>(m,1))\n",
    "\n",
    "//ReduceBy transformation\n",
    "val rdd5 = rdd2.reduceByKey(_ + _)\n",
    "\n",
    "println(\"RDD Parition Count :\"+rdd5.getNumPartitions)"
   ]
  },
  {
   "cell_type": "markdown",
   "id": "2772ad4e",
   "metadata": {},
   "source": [
    "## Spark SQL DataFrame Shuffle"
   ]
  },
  {
   "cell_type": "code",
   "execution_count": 9,
   "id": "aedc5abe",
   "metadata": {},
   "outputs": [
    {
     "name": "stdout",
     "output_type": "stream",
     "text": [
      "200\n"
     ]
    },
    {
     "data": {
      "text/plain": [
       "import spark.implicits._\n",
       "simpleData: Seq[(String, String, String, Int, Int, Int)] = List((James,Sales,NY,90000,34,10000), (Michael,Sales,NY,86000,56,20000), (Robert,Sales,CA,81000,30,23000), (Maria,Finance,CA,90000,24,23000), (Raman,Finance,CA,99000,40,24000), (Scott,Finance,NY,83000,36,19000), (Jen,Finance,NY,79000,53,15000), (Jeff,Marketing,CA,80000,25,18000), (Kumar,Marketing,NY,91000,50,21000))\n",
       "df: org.apache.spark.sql.DataFrame = [employee_name: string, department: string ... 4 more fields]\n",
       "df2: org.apache.spark.sql.DataFrame = [state: string, count: bigint]\n"
      ]
     },
     "execution_count": 9,
     "metadata": {},
     "output_type": "execute_result"
    }
   ],
   "source": [
    "import spark.implicits._\n",
    "\n",
    "val simpleData = Seq((\"James\",\"Sales\",\"NY\",90000,34,10000),\n",
    "    (\"Michael\",\"Sales\",\"NY\",86000,56,20000),\n",
    "    (\"Robert\",\"Sales\",\"CA\",81000,30,23000),\n",
    "    (\"Maria\",\"Finance\",\"CA\",90000,24,23000),\n",
    "    (\"Raman\",\"Finance\",\"CA\",99000,40,24000),\n",
    "    (\"Scott\",\"Finance\",\"NY\",83000,36,19000),\n",
    "    (\"Jen\",\"Finance\",\"NY\",79000,53,15000),\n",
    "    (\"Jeff\",\"Marketing\",\"CA\",80000,25,18000),\n",
    "    (\"Kumar\",\"Marketing\",\"NY\",91000,50,21000)\n",
    "  )\n",
    "val df = simpleData.toDF(\"employee_name\",\"department\",\"state\",\"salary\",\"age\",\"bonus\")\n",
    "\n",
    "val df2 = df.groupBy(\"state\").count()\n",
    "\n",
    "println(df2.rdd.getNumPartitions)"
   ]
  },
  {
   "cell_type": "markdown",
   "id": "a13595b7",
   "metadata": {},
   "source": [
    "## can change default shuffle partition value using conf method of the SparkSession"
   ]
  },
  {
   "cell_type": "code",
   "execution_count": 13,
   "id": "60b38772",
   "metadata": {},
   "outputs": [
    {
     "name": "stdout",
     "output_type": "stream",
     "text": [
      "100\n"
     ]
    }
   ],
   "source": [
    "spark.conf.set(\"spark.sql.shuffle.partitions\",100)\n",
    "println(df.groupBy(\"state\").count().rdd.partitions.length)"
   ]
  },
  {
   "cell_type": "code",
   "execution_count": null,
   "id": "a1724c78",
   "metadata": {},
   "outputs": [],
   "source": []
  }
 ],
 "metadata": {
  "kernelspec": {
   "display_name": "spylon-kernel",
   "language": "scala",
   "name": "spylon-kernel"
  },
  "language_info": {
   "codemirror_mode": "text/x-scala",
   "file_extension": ".scala",
   "help_links": [
    {
     "text": "MetaKernel Magics",
     "url": "https://metakernel.readthedocs.io/en/latest/source/README.html"
    }
   ],
   "mimetype": "text/x-scala",
   "name": "scala",
   "pygments_lexer": "scala",
   "version": "0.4.1"
  }
 },
 "nbformat": 4,
 "nbformat_minor": 5
}
