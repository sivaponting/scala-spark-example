{
 "cells": [
  {
   "cell_type": "markdown",
   "id": "c47a56d9",
   "metadata": {},
   "source": [
    "## Spark RDD Broadcast variable example"
   ]
  },
  {
   "cell_type": "code",
   "execution_count": 3,
   "id": "1da4dc1d",
   "metadata": {},
   "outputs": [
    {
     "name": "stdout",
     "output_type": "stream",
     "text": [
      "(James,Smith,United States of America,California)\n",
      "(Michael,Rose,United States of America,New York)\n",
      "(Robert,Williams,United States of America,California)\n",
      "(Maria,Jones,United States of America,Florida)\n"
     ]
    },
    {
     "data": {
      "text/plain": [
       "import org.apache.spark.sql.SparkSession\n",
       "spark: org.apache.spark.sql.SparkSession = org.apache.spark.sql.SparkSession@38132196\n",
       "states: scala.collection.immutable.Map[String,String] = Map(NY -> New York, CA -> California, FL -> Florida)\n",
       "countries: scala.collection.immutable.Map[String,String] = Map(USA -> United States of America, IN -> India)\n",
       "broadcastStates: org.apache.spark.broadcast.Broadcast[scala.collection.immutable.Map[String,String]] = Broadcast(0)\n",
       "broadcastCountries: org.apache.spark.broadcast.Broadcast[scala.collection.immutable.Map[String,String]] = Broadcast(1)\n",
       "data: Seq[(String, String, String, String)] = List((James,Smith,USA,CA), (Michael,Rose,USA,NY), (Robert,Williams,USA,CA), (Maria,Jones,USA,FL))\n",
       "rdd: org.apache.spark.rdd.RDD[(String, String, String, String)] = Paralle...\n"
      ]
     },
     "execution_count": 3,
     "metadata": {},
     "output_type": "execute_result"
    }
   ],
   "source": [
    "import org.apache.spark.sql.SparkSession\n",
    "\n",
    "val spark = SparkSession.builder.appName(\"SparkByExamples.com\").master(\"local\").getOrCreate()\n",
    "val states = Map((\"NY\",\"New York\"),(\"CA\",\"California\"),(\"FL\",\"Florida\"))\n",
    "val countries = Map((\"USA\",\"United States of America\"),(\"IN\",\"India\"))\n",
    "\n",
    "val broadcastStates = spark.sparkContext.broadcast(states)\n",
    "val broadcastCountries = spark.sparkContext.broadcast(countries)\n",
    "\n",
    "val data = Seq((\"James\",\"Smith\",\"USA\",\"CA\"),\n",
    "    (\"Michael\",\"Rose\",\"USA\",\"NY\"),\n",
    "    (\"Robert\",\"Williams\",\"USA\",\"CA\"),\n",
    "    (\"Maria\",\"Jones\",\"USA\",\"FL\")\n",
    "  )\n",
    "\n",
    "val rdd = spark.sparkContext.parallelize(data)\n",
    "val rdd2 = rdd.map(f => {\n",
    "    val country = f._3\n",
    "    val state = f._4\n",
    "    val fullCountry = broadcastCountries.value.get(country).get\n",
    "    val fullState = broadcastStates.value.get(state).get\n",
    "    (f._1, f._2, fullCountry, fullState)\n",
    "})\n",
    "\n",
    "println(rdd2.collect().mkString(\"\\n\"))"
   ]
  },
  {
   "cell_type": "markdown",
   "id": "66bd762a",
   "metadata": {},
   "source": [
    "## Spark DataFrame Broadcast variable example"
   ]
  },
  {
   "cell_type": "code",
   "execution_count": 16,
   "id": "2a256473",
   "metadata": {},
   "outputs": [
    {
     "ename": "<console>",
     "evalue": "56: error: ambiguous implicit values:",
     "output_type": "error",
     "traceback": [
      "<console>:56: error: ambiguous implicit values:",
      " both method newSequenceEncoder in class SQLImplicits of type [T <: Seq[_]](implicit evidence$2: reflect.runtime.universe.TypeTag[T])org.apache.spark.sql.Encoder[T]",
      " and method newMapEncoder in class SQLImplicits of type [T <: scala.collection.Map[_, _]](implicit evidence$3: reflect.runtime.universe.TypeTag[T])org.apache.spark.sql.Encoder[T]",
      " match expected type org.apache.spark.sql.Encoder[Null]",
      "       val df2 = df.map(row=>{",
      "                       ^",
      ""
     ]
    }
   ],
   "source": [
    "val spark = SparkSession.builder()\n",
    "    .appName(\"SparkByExamples.com\")\n",
    "    .master(\"local\")\n",
    "    .getOrCreate()\n",
    "\n",
    "val states = Map((\"NY\",\"New York\"),(\"CA\",\"California\"),(\"FL\",\"Florida\"))\n",
    "val countries = Map((\"USA\",\"United States of America\"),(\"IN\",\"India\"))\n",
    "\n",
    "val broadcastStates = spark.sparkContext.broadcast(states)\n",
    "val broadcastCountries = spark.sparkContext.broadcast(countries)\n",
    "\n",
    "val data = Seq((\"James\",\"Smith\",\"USA\",\"CA\"),\n",
    "    (\"Michael\",\"Rose\",\"USA\",\"NY\"),\n",
    "    (\"Robert\",\"Williams\",\"USA\",\"CA\"),\n",
    "    (\"Maria\",\"Jones\",\"USA\",\"FL\")\n",
    "  )\n",
    "\n",
    "val columns = Seq(\"firstname\",\"lastname\",\"country\",\"state\")\n",
    "\n",
    "val df = data.toDF(columns:_*)\n",
    "\n",
    "val df2 = df.map(row=>{\n",
    "    val country = row.getString(2)\n",
    "    val state = row.getString(3)\n",
    "\n",
    "    val fullCountry = broadcastCountries.value.get(country).get\n",
    "    val fullState = broadcastStates.value.get(state).get\n",
    "    (row.getString(0),row.getString(1),fullCountry,fullState)\n",
    "  }).toDF(columns:_*)\n",
    "\n",
    "df2.show(false)"
   ]
  },
  {
   "cell_type": "code",
   "execution_count": null,
   "id": "c199b8ab",
   "metadata": {},
   "outputs": [],
   "source": []
  }
 ],
 "metadata": {
  "kernelspec": {
   "display_name": "spylon-kernel",
   "language": "scala",
   "name": "spylon-kernel"
  },
  "language_info": {
   "codemirror_mode": "text/x-scala",
   "file_extension": ".scala",
   "help_links": [
    {
     "text": "MetaKernel Magics",
     "url": "https://metakernel.readthedocs.io/en/latest/source/README.html"
    }
   ],
   "mimetype": "text/x-scala",
   "name": "scala",
   "pygments_lexer": "scala",
   "version": "0.4.1"
  }
 },
 "nbformat": 4,
 "nbformat_minor": 5
}
