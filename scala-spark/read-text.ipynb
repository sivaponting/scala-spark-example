{
 "cells": [
  {
   "cell_type": "markdown",
   "id": "25c73059",
   "metadata": {},
   "source": [
    "## Spark Read using whole text files"
   ]
  },
  {
   "cell_type": "code",
   "execution_count": 1,
   "id": "429d5d67",
   "metadata": {},
   "outputs": [
    {
     "data": {
      "text/plain": [
       "Intitializing Scala interpreter ..."
      ]
     },
     "metadata": {},
     "output_type": "display_data"
    },
    {
     "data": {
      "text/plain": [
       "Spark Web UI available at http://192.168.0.108:4041\n",
       "SparkContext available as 'sc' (version = 3.1.1, master = local[*], app id = local-1646478459962)\n",
       "SparkSession available as 'spark'\n"
      ]
     },
     "metadata": {},
     "output_type": "display_data"
    },
    {
     "name": "stdout",
     "output_type": "stream",
     "text": [
      "file:/Users/sivaponting/Technology/Github/scala-spark-example/resources/text03.csv=>Col1,Col2\n",
      "Three,3\n",
      "file:/Users/sivaponting/Technology/Github/scala-spark-example/resources/text04.csv=>Col1,Col2\n",
      "Four,4\n",
      "file:/Users/sivaponting/Technology/Github/scala-spark-example/resources/text02.csv=>Col1,Col2\n",
      "Two,2\n",
      "Twenty One,21\n",
      "file:/Users/sivaponting/Technology/Github/scala-spark-example/resources/invald.csv=>Col1,Col2\n",
      "Invalid,I\n",
      "file:/Users/sivaponting/Technology/Github/scala-spark-example/resources/text01.csv=>Col1,Col2\n",
      "One,1\n",
      "Eleven,11\n"
     ]
    },
    {
     "data": {
      "text/plain": [
       "rddWhole: org.apache.spark.rdd.RDD[(String, String)] = ../resources/* MapPartitionsRDD[1] at wholeTextFiles at <console>:24\n"
      ]
     },
     "execution_count": 1,
     "metadata": {},
     "output_type": "execute_result"
    }
   ],
   "source": [
    "val rddWhole = spark.sparkContext.wholeTextFiles(\"../resources/*\")\n",
    "rddWhole.foreach(f => println(f._1 + \"=>\" + f._2))"
   ]
  },
  {
   "cell_type": "markdown",
   "id": "ac7f745d",
   "metadata": {},
   "source": [
    "## Read all text files matching a pattern to single RDD"
   ]
  },
  {
   "cell_type": "code",
   "execution_count": 2,
   "id": "1c233ba8",
   "metadata": {},
   "outputs": [
    {
     "name": "stdout",
     "output_type": "stream",
     "text": [
      "Col1,Col2\n",
      "Col1,Col2\n",
      "Two,2\n",
      "Col1,Col2\n",
      "Twenty One,21\n",
      "Col1,Col2\n",
      "Three,3\n",
      "Four,4\n",
      "One,1\n",
      "Eleven,11\n"
     ]
    },
    {
     "data": {
      "text/plain": [
       "rdd2: org.apache.spark.rdd.RDD[String] = ../resources/text*.csv MapPartitionsRDD[3] at textFile at <console>:24\n"
      ]
     },
     "execution_count": 2,
     "metadata": {},
     "output_type": "execute_result"
    }
   ],
   "source": [
    "val rdd2 = spark.sparkContext.textFile(\"../resources/text*.csv\")\n",
    "rdd2.foreach(f => {\n",
    "    println(f)\n",
    "})"
   ]
  },
  {
   "cell_type": "code",
   "execution_count": null,
   "id": "dc305209",
   "metadata": {},
   "outputs": [],
   "source": []
  }
 ],
 "metadata": {
  "kernelspec": {
   "display_name": "spylon-kernel",
   "language": "scala",
   "name": "spylon-kernel"
  },
  "language_info": {
   "codemirror_mode": "text/x-scala",
   "file_extension": ".scala",
   "help_links": [
    {
     "text": "MetaKernel Magics",
     "url": "https://metakernel.readthedocs.io/en/latest/source/README.html"
    }
   ],
   "mimetype": "text/x-scala",
   "name": "scala",
   "pygments_lexer": "scala",
   "version": "0.4.1"
  }
 },
 "nbformat": 4,
 "nbformat_minor": 5
}
